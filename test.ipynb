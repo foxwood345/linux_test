{
 "cells": [
  {
   "cell_type": "code",
   "execution_count": 1,
   "metadata": {},
   "outputs": [
    {
     "name": "stderr",
     "output_type": "stream",
     "text": [
      "/home/aiteam/anaconda3/envs/dec2/lib/python3.8/site-packages/tqdm/auto.py:22: TqdmWarning: IProgress not found. Please update jupyter and ipywidgets. See https://ipywidgets.readthedocs.io/en/stable/user_install.html\n",
      "  from .autonotebook import tqdm as notebook_tqdm\n"
     ]
    },
    {
     "data": {
      "text/plain": [
       "tensor([ 0.0000,  1.2500,  2.5000,  3.7500,  5.0000,  6.2500,  7.5000,  8.7500,\n",
       "        10.0000])"
      ]
     },
     "execution_count": 1,
     "metadata": {},
     "output_type": "execute_result"
    }
   ],
   "source": [
    "import torch\n",
    "\n",
    "torch.linspace(0, 10, 9)"
   ]
  },
  {
   "cell_type": "code",
   "execution_count": 5,
   "metadata": {},
   "outputs": [],
   "source": [
    "from detectron2.engine import DefaultTrainer\n",
    "from detectron2.data import (build_detection_train_loader,\n",
    "                             build_detection_test_loader,\n",
    "                             build_batch_data_loader,\n",
    "                             get_detection_dataset_dicts) "
   ]
  },
  {
   "cell_type": "code",
   "execution_count": 7,
   "metadata": {},
   "outputs": [
    {
     "name": "stdout",
     "output_type": "stream",
     "text": [
      "0\n",
      "1\n",
      "2\n",
      "3\n",
      "4\n",
      "5\n",
      "6\n",
      "7\n",
      "8\n",
      "9\n"
     ]
    }
   ],
   "source": [
    "for i in range(1_0):\n",
    "    print(i)\n",
    "    "
   ]
  },
  {
   "cell_type": "code",
   "execution_count": null,
   "metadata": {},
   "outputs": [],
   "source": [
    "from detectron2.config import configurable\n",
    "class DatasetMapper:\n",
    "  @configurable\n",
    "  def __init__(self, is_train: bool, *,\n",
    "               augmentations,\n",
    "               image_format : str = False,\n",
    "               use_instance_mask : bool = False, \n",
    "               instance_mask_format : str = 'polygon',\n",
    "               keypoint_hflip_indicies = None,\n",
    "               precomputed_topk_proposals = None,\n",
    "               ):\n",
    "    self._is_train = is_train\n",
    "    \n",
    "    \n",
    "  def __call__(self, dataest_dict):\n",
    "    \n",
    "    "
   ]
  },
  {
   "cell_type": "code",
   "execution_count": null,
   "metadata": {},
   "outputs": [],
   "source": [
    "class SceneGraphDatasetMapper(DatasetMapper):\n",
    "    def __init__(self, cfg, is_train=True):\n",
    "        super(, self).__init__(cfg, is_train=is_train)\n",
    "        self.is_train = is_train\n",
    "        self.filter_duplicate_relations = cfg.DATASETS.VISUAL_GENOME.FILTER_DUPLICATE_RELATIONS\n",
    "        \n",
    "    def __call__(self, dataset_dict):\n",
    "        dataset_dict = copy.deepcopy(dataset_dict)\n",
    "        image = utils.read_image"
   ]
  },
  {
   "cell_type": "code",
   "execution_count": 4,
   "metadata": {},
   "outputs": [
    {
     "ename": "SyntaxError",
     "evalue": "invalid syntax (2197038421.py, line 9)",
     "output_type": "error",
     "traceback": [
      "\u001b[0;36m  Input \u001b[0;32mIn [4]\u001b[0;36m\u001b[0m\n\u001b[0;31m    @class\u001b[0m\n\u001b[0m     ^\u001b[0m\n\u001b[0;31mSyntaxError\u001b[0m\u001b[0;31m:\u001b[0m invalid syntax\n"
     ]
    }
   ],
   "source": [
    "class MyTrainer(DefaultTrainer):\n",
    "  def __init__(self, cfg):\n",
    "    super(MyTrainer, self).__init__(cfg)\n",
    "  \n",
    "  @classmethod\n",
    "  def build_train_loader(cls, cfg):\n",
    "    return build_detection_train_loader(cfg, mapper=MyDatasetMapper(cfg, True))\n",
    "  \n",
    "  @classmethod\n",
    "  \n",
    "  @classmethod\n",
    "  def build_evaluator(cls, cfg, dataset_name, output_folder=None):\n",
    "    \n"
   ]
  },
  {
   "cell_type": "code",
   "execution_count": null,
   "metadata": {},
   "outputs": [],
   "source": []
  }
 ],
 "metadata": {
  "interpreter": {
   "hash": "e01cc13f698fedab00abeb2614c3a5b13f01fec4be63babf304360ea4d943751"
  },
  "kernelspec": {
   "display_name": "Python 3.8.13 ('dec2')",
   "language": "python",
   "name": "python3"
  },
  "language_info": {
   "codemirror_mode": {
    "name": "ipython",
    "version": 3
   },
   "file_extension": ".py",
   "mimetype": "text/x-python",
   "name": "python",
   "nbconvert_exporter": "python",
   "pygments_lexer": "ipython3",
   "version": "3.8.13"
  },
  "orig_nbformat": 4
 },
 "nbformat": 4,
 "nbformat_minor": 2
}
